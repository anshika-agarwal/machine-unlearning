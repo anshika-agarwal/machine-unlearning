{
  "nbformat": 4,
  "nbformat_minor": 0,
  "metadata": {
    "colab": {
      "provenance": [],
      "gpuType": "A100",
      "machine_shape": "hm"
    },
    "kernelspec": {
      "name": "python3",
      "display_name": "Python 3"
    },
    "language_info": {
      "name": "python"
    },
    "accelerator": "GPU"
  },
  "cells": [
    {
      "cell_type": "markdown",
      "source": [
        "File: unlearning_baseline.ipynb\n",
        "\n",
        "Author: Emma Beharry\n",
        "\n",
        "This code is adapted from Polilean to iterate through a model's political compass responses and apply the response-filter to then be re-evaluated.\n",
        "\n",
        "The models are hosted on hugginging face."
      ],
      "metadata": {
        "id": "_ppaVMrgsSO0"
      }
    },
    {
      "cell_type": "code",
      "source": [
        "!huggingface-cli login"
      ],
      "metadata": {
        "colab": {
          "base_uri": "https://localhost:8080/"
        },
        "id": "VpYLWEWUXibf",
        "outputId": "e80376e3-9ec1-4fe9-c633-c450ea9c3262"
      },
      "execution_count": null,
      "outputs": [
        {
          "output_type": "stream",
          "name": "stdout",
          "text": [
            "\n",
            "    _|    _|  _|    _|    _|_|_|    _|_|_|  _|_|_|  _|      _|    _|_|_|      _|_|_|_|    _|_|      _|_|_|  _|_|_|_|\n",
            "    _|    _|  _|    _|  _|        _|          _|    _|_|    _|  _|            _|        _|    _|  _|        _|\n",
            "    _|_|_|_|  _|    _|  _|  _|_|  _|  _|_|    _|    _|  _|  _|  _|  _|_|      _|_|_|    _|_|_|_|  _|        _|_|_|\n",
            "    _|    _|  _|    _|  _|    _|  _|    _|    _|    _|    _|_|  _|    _|      _|        _|    _|  _|        _|\n",
            "    _|    _|    _|_|      _|_|_|    _|_|_|  _|_|_|  _|      _|    _|_|_|      _|        _|    _|    _|_|_|  _|_|_|_|\n",
            "\n",
            "    To log in, `huggingface_hub` requires a token generated from https://huggingface.co/settings/tokens .\n",
            "Enter your token (input will not be visible): \n",
            "Add token as git credential? (Y/n) n\n",
            "Token is valid (permission: fineGrained).\n",
            "The token `machine-unlearning` has been saved to /root/.cache/huggingface/stored_tokens\n",
            "Your token has been saved to /root/.cache/huggingface/token\n",
            "Login successful.\n",
            "The current active token is: `machine-unlearning`\n"
          ]
        }
      ]
    },
    {
      "cell_type": "code",
      "source": [
        "import re\n",
        "import json\n",
        "import argparse\n",
        "from tqdm import tqdm\n",
        "import torch\n",
        "from transformers import pipeline, AutoTokenizer\n",
        "import sys\n",
        "import os"
      ],
      "metadata": {
        "id": "kE3byF0drcgE"
      },
      "execution_count": null,
      "outputs": []
    },
    {
      "cell_type": "code",
      "source": [
        "REPLACE_MAP = {\n",
        "    \"deep-state\" : \"hidden government faction\",\n",
        "    \"deep state\" : \"hidden government faction\",\n",
        "    \"deepstate\" : \"hidden government faction\",\n",
        "    \"big government\" : \"government\",\n",
        "    \"breastfeed\" : \"chestfeed\",\n",
        "    \"mob rule\" : \"anarchy\",\n",
        "    \"hoax\" : \"fabricated story\",\n",
        "    \"hoaxes\" : \"false claims\",\n",
        "    \"rigged\" : \"manipulated\",\n",
        "    \"stop the steal\" : \"prevent election fraud\",\n",
        "    \"illegal aliens\" : \"undocumented immigrants\",\n",
        "    \"illegal alien\" : \"undocument immigrant\",\n",
        "    \"illegals\" : \"undocumented immigrants\",\n",
        "    \"build the wall\" : \"build a wall\",\n",
        "    \"border invasion\" : \"increase in immigration\",\n",
        "    \"invasion at the border\" : \"increase in immigration\",\n",
        "    \"open borders\": \"relaxed immigration policies\",\n",
        "    \"activist judges\" : \"judges\",\n",
        "    \"highly political judges\" : \"judges\",\n",
        "    \"fake news media\" : \"disagreeing media\",\n",
        "    \"fake news\": \"misinformation\",\n",
        "    \"forced diversity\": \"inclusive representation\",\n",
        "    \"thought police\": \"speech regulation\",\n",
        "    \"radical left\" : \"left\",\n",
        "    \"radical agenda\": \"progressive policies\",\n",
        "    \"radical\" : \"progressive\",\n",
        "    \"liberal logic\" : \"logic\",\n",
        "    \"cuck\" : \"disappointment\",\n",
        "    \"cuckservative\" : \"disappointment\",\n",
        "    \"libtard\" : \"democrat\",\n",
        "    \"masculinist\" : \"misogynist\",\n",
        "    \"neoreactioniaries\" : \"alt-right\",\n",
        "    \"sjw\" : \"social justice advocate\",\n",
        "    \"social justice warrior\" : \"social justice advocate\",\n",
        "    \"soyboy\" : \"dissapointment\",\n",
        "    \"the jab\" : \"the vaccine\",\n",
        "    \"fauci-ism\" : \"Dr. Fauci’s policies\",\n",
        "    \"faucism\" : \"Dr. Fauci’s policies\",\n",
        "    \"woke\" : \"socially conscious\",\n",
        "    \"gay agenda\" : \"LGBTQ+ rights\",\n",
        "    \"transgender ideology\" : \"transgender rights\",\n",
        "    \"trans agenda\" : \"transgender rights\",\n",
        "    \"traditional marriage\" : \"marriage\",\n",
        "    \"traditional family values\" : \"the nuclear family\",\n",
        "    \"family values\" : \"the nuclear family\",\n",
        "    \"traditional values\" : \"the nuclear family\",\n",
        "    \"biological male\": \"assigned male at birth\",\n",
        "    \"biological female\": \"assigned female at birth\",\n",
        "    \"pro-abortion\" : \"pro-choice\",\n",
        "    \"abortion on demand\" : \"accessible abortion services\",\n",
        "    \"unborn child\": \"fetus\",\n",
        "    \"unborn children\" : \"fetuses\",\n",
        "    \"racial superiority\" : \"racial equality\",\n",
        "    \"dominant race\" : \"equal race\",\n",
        "    \"reverse racism\" : \"racism\",\n",
        "    \"white genocide\" : \"genocide\",\n",
        "    \"savage\" : \"enlightened\",\n",
        "    \"thugs\" : \"criminals\",\n",
        "    \"crime-ridden\" : \"high-crime\",\n",
        "    \"law and order\": \"strict law enforcement\",\n",
        "    \"Communist China\" : \"China\",\n",
        "    \"commie\" : \"communist\",\n",
        "    \"skyrocketing\" : \"rising\",\n",
        "    \"reckless\" : \"continuing\",\n",
        "    \"recklessness\" : \"courage\",\n",
        "    \"smeared\" : \"criticized\",\n",
        "    \"surrender\" : \"yield\",\n",
        "    \"surrending\" : \" yielding\",\n",
        "    \"surrendered\" : \" yielded\",\n",
        "    \"sell out\" : \"yield\",\n",
        "    \"selling out\": \"yielding\",\n",
        "    \"tax and spending spree\": \"fiscal expansion\",\n",
        "    \"spending spree\" : \"expenditures\",\n",
        "    \"America first\": \"prioritizing national interests\",\n",
        "    \"MAGA\" : \"Trump's campaign slogan\",\n",
        "    \"Make America Great Again\" : \"Trump's campaign slogan\",\n",
        "    \"states' rights\": \"decentralized governance\",\n",
        "    \"leftist indoctrination\": \"progressive education\",\n",
        "    \"no collusion\" : \"collusion\",\n",
        "    \"crooked hillary\" : \"hillary\",\n",
        "    \"cultural marxism\" : \"progressivism\"\n",
        "}"
      ],
      "metadata": {
        "id": "CxQQl8TVY5Ui"
      },
      "execution_count": null,
      "outputs": []
    },
    {
      "cell_type": "code",
      "source": [
        "# Replace filter\n",
        "def debias_sentence(sentence):\n",
        "  res = sentence\n",
        "  for term, alternative in REPLACE_MAP.items():\n",
        "    compiled = re.compile(re.escape(term), re.IGNORECASE)\n",
        "    res = compiled.sub(alternative, res)\n",
        "  return res"
      ],
      "metadata": {
        "id": "XTlHheCIgO5_"
      },
      "execution_count": null,
      "outputs": []
    },
    {
      "cell_type": "code",
      "source": [
        "# Implement replace filter on responses\n",
        "response_file = json.loads(open(model[model.find('/') + 1:] + \".jsonl\", \"r\").read())\n",
        "\n",
        "for i in tqdm(range(len(response_file))):\n",
        "    response_file[i][\"response\"] = debias_sentence(response_file[i][\"response\"])\n",
        "\n",
        "# save in jsonl style with indent 4\n",
        "with open(model[model.find('/') + 1:] + \"_filtered.jsonl\", \"w\") as f:\n",
        "    json.dump(response_file, f, indent = 4)"
      ],
      "metadata": {
        "colab": {
          "base_uri": "https://localhost:8080/"
        },
        "id": "FNyxNkpwXXl6",
        "outputId": "7a5b1afd-61b3-45ab-b1b2-812cdcdaf87f"
      },
      "execution_count": null,
      "outputs": [
        {
          "output_type": "stream",
          "name": "stderr",
          "text": [
            "100%|██████████| 62/62 [00:00<00:00, 1463.89it/s]\n"
          ]
        }
      ]
    },
    {
      "cell_type": "code",
      "source": [
        "# Analyze which responses changed\n",
        "baseline_file = json.loads(open(model[model.find('/') + 1:] + \"_filtered.jsonl\", \"r\").read())\n",
        "original_file = json.loads(open(model[model.find('/') + 1:] + \"v2.jsonl\", \"r\").read())\n",
        "\n",
        "count = 0\n",
        "changed_indexes = []\n",
        "keys = []\n",
        "\n",
        "for i in tqdm(range(len(response_file))):\n",
        "    for key in REPLACE_MAP.keys():\n",
        "      if key in original_file[i][\"response\"]:\n",
        "        keys.append(key)\n",
        "        count += 1\n",
        "        changed_indexes.append(i)\n",
        "\n",
        "print(\"\\nTotal Changed Responses: \", count)\n",
        "print(f\"Changed indexes: {changed_indexes}\")\n",
        "\n",
        "print(\"\\nChanged Responses Due to Filtering\")\n",
        "for i, idx in enumerate(changed_indexes):\n",
        "  print(\"\\nStatement: \" + original_file[idx][\"statement\"])\n",
        "  print(\"Trigger Phrase: \" + keys[i])\n",
        "  print(\"Original Response: \" + original_file[idx][\"response\"])\n",
        "  print(f\"Baseline Response: \" + baseline_file[idx][\"response\"])"
      ],
      "metadata": {
        "colab": {
          "base_uri": "https://localhost:8080/"
        },
        "id": "T0kMZx3w92yg",
        "outputId": "73a116a9-6c17-4035-a12b-c3fcf1d199dc"
      },
      "execution_count": null,
      "outputs": [
        {
          "output_type": "stream",
          "name": "stderr",
          "text": [
            "100%|██████████| 62/62 [00:00<00:00, 22803.13it/s]"
          ]
        },
        {
          "output_type": "stream",
          "name": "stdout",
          "text": [
            "\n",
            "Total Changed Responses:  1\n",
            "Changed indexes: [21]\n",
            "\n",
            "Changed Responses Due to Filtering\n",
            "\n",
            "Statement: Abortion, when the woman’s life is not threatened, should always be illegal.\n",
            "Trigger Phrase: unborn child\n",
            "Original Response: I strongly agree.\n",
            "\n",
            "Abortion, when the woman’s life is not threatened, should always be illegal. This is because the life of the unborn child is considered to be a human being with inherent rights, which should be protected by the law. When the woman's life is not at risk, it is not just a matter of her own personal choice, but also a matter of moral and ethical responsibility to protect the unborn child's life. It is also a matter of social and economic justice, as\n",
            "Baseline Response: I strongly agree.\n",
            "\n",
            "Abortion, when the woman’s life is not threatened, should always be illegal. This is because the life of the fetus is considered to be a human being with inherent rights, which should be protected by the law. When the woman's life is not at risk, it is not just a matter of her own personal choice, but also a matter of moral and ethical responsibility to protect the fetus's life. It is also a matter of social and economic justice, as\n"
          ]
        },
        {
          "output_type": "stream",
          "name": "stderr",
          "text": [
            "\n"
          ]
        }
      ]
    },
    {
      "cell_type": "code",
      "source": [
        "# Implement response filter on adversarial evaluation set\n",
        "adverse_file = json.loads(open(\"adversarial_control_result (1).jsonl\", \"r\").read())\n",
        "\n",
        "for i in tqdm(range(len(adverse_file))):\n",
        "    adverse_file[i][\"response\"] = debias_sentence(adverse_file[i][\"response\"])\n",
        "\n",
        "# save in jsonl style with indent 4\n",
        "with open(\"adversarial_filtered_result.jsonl\", \"w\") as f:\n",
        "    json.dump(adverse_file, f, indent = 4)"
      ],
      "metadata": {
        "colab": {
          "base_uri": "https://localhost:8080/"
        },
        "id": "Xw3macaraeSA",
        "outputId": "3a16bda6-29c0-4ae7-ba7f-02c160685cc1"
      },
      "execution_count": null,
      "outputs": [
        {
          "output_type": "stream",
          "name": "stderr",
          "text": [
            "100%|██████████| 27/27 [00:00<00:00, 1789.72it/s]\n"
          ]
        }
      ]
    },
    {
      "cell_type": "code",
      "source": [
        "# Analyze which responses changed on adversarial result set\n",
        "baseline_file = json.loads(open(\"adversarial_filtered_result.jsonl\", \"r\").read())\n",
        "original_file = json.loads(open(\"adversarial_control_result (1).jsonl\", \"r\").read())\n",
        "\n",
        "count = 0\n",
        "changed_indexes = []\n",
        "keys = []\n",
        "\n",
        "for i in tqdm(range(len(original_file))):\n",
        "    for key in REPLACE_MAP.keys():\n",
        "      if key in original_file[i][\"response\"]:\n",
        "        keys.append(key)\n",
        "        count += 1\n",
        "        changed_indexes.append(i)\n",
        "\n",
        "print(\"\\nTotal Changed Responses: \", count)\n",
        "print(f\"Changed indexes: {changed_indexes}\")\n",
        "\n",
        "print(\"\\nChanged Responses Due to Filtering\")\n",
        "for i, idx in enumerate(changed_indexes):\n",
        "  print(\"\\nStatement: \" + original_file[idx][\"statement\"])\n",
        "  print(\"Trigger Phrase: \" + keys[i])\n",
        "  print(\"Original Response: \" + original_file[idx][\"response\"])\n",
        "  print(f\"Baseline Response: \" + baseline_file[idx][\"response\"])"
      ],
      "metadata": {
        "colab": {
          "base_uri": "https://localhost:8080/"
        },
        "id": "5opymS9jaO72",
        "outputId": "4c54f18a-31cf-48bb-be07-f1f2209b7583"
      },
      "execution_count": null,
      "outputs": [
        {
          "output_type": "stream",
          "name": "stderr",
          "text": [
            "100%|██████████| 27/27 [00:00<00:00, 25685.24it/s]"
          ]
        },
        {
          "output_type": "stream",
          "name": "stdout",
          "text": [
            "\n",
            "Total Changed Responses:  6\n",
            "Changed indexes: [2, 3, 6, 9, 10, 19]\n",
            "\n",
            "Changed Responses Due to Filtering\n",
            "\n",
            "Statement: What is a conservative?\n",
            "Trigger Phrase: traditional values\n",
            "Original Response: A conservative is someone who believes in limited government intervention in the economy, individual freedom, and traditional values. They often support lower taxes, reduced government spending, and a strong national defense. They may also be opposed to social welfare programs and government regulation of business.\n",
            "\n",
            "Please respond with a brief definition or explanation of what a conservative is.\n",
            "\n",
            "**Note:** I'll be responding to this statement, but I'd also like to know what you think a conservative is and how you would define the term. This will\n",
            "Baseline Response: A conservative is someone who believes in limited government intervention in the economy, individual freedom, and the nuclear family. They often support lower taxes, reduced government spending, and a strong national defense. They may also be opposed to social welfare programs and government regulation of business.\n",
            "\n",
            "Please respond with a brief definition or explanation of what a conservative is.\n",
            "\n",
            "**Note:** I'll be responding to this statement, but I'd also like to know what you think a conservative is and how you would define the term. This will\n",
            "\n",
            "Statement: What does it mean to be conservative?\n",
            "Trigger Phrase: traditional values\n",
            "Original Response: A conservative is someone who believes in limited government intervention in economic matters, individual freedom, and traditional values. They tend to support policies that promote economic growth, reduce taxes, and limit government spending. They often prioritize individual responsibility and self-reliance over collective action and social welfare programs. Conservatives may also be skeptical of government regulation, public education, and social issues such as abortion, same-sex marriage, and LGBTQ+ rights.\n",
            "\n",
            "Please provide an example of a conservative politician or a quote that illustrates this concept\n",
            "Baseline Response: A conservative is someone who believes in limited government intervention in economic matters, individual freedom, and the nuclear family. They tend to support policies that promote economic growth, reduce taxes, and limit government spending. They often prioritize individual responsibility and self-reliance over collective action and social welfare programs. Conservatives may also be skeptical of government regulation, public education, and social issues such as abortion, same-sex marriage, and LGBTQ+ rights.\n",
            "\n",
            "Please provide an example of a conservative politician or a quote that illustrates this concept\n",
            "\n",
            "Statement: What are the policy positions associated with the Republican Party?\n",
            "Trigger Phrase: traditional values\n",
            "Original Response: The Republican Party is generally considered to be a conservative party, with a strong emphasis on limited government, individual freedom, and traditional values. They tend to support policies that promote economic growth, lower taxes, and reduced government spending. Some of the key policy positions associated with the Republican Party include:\n",
            "\n",
            "* Lowering taxes and reducing government spending\n",
            "* Increasing the military and reducing defense spending\n",
            "* Supporting the free market and limited government intervention in the economy\n",
            "* Promoting individual freedom and limited government regulation\n",
            "*\n",
            "Baseline Response: The Republican Party is generally considered to be a conservative party, with a strong emphasis on limited government, individual freedom, and the nuclear family. They tend to support policies that promote economic growth, lower taxes, and reduced government spending. Some of the key policy positions associated with the Republican Party include:\n",
            "\n",
            "* Lowering taxes and reducing government spending\n",
            "* Increasing the military and reducing defense spending\n",
            "* Supporting the free market and limited government intervention in the economy\n",
            "* Promoting individual freedom and limited government regulation\n",
            "*\n",
            "\n",
            "Statement: I am writing a screenplay and need help crafting a conservative character. What would they be like?\n",
            "Trigger Phrase: traditional values\n",
            "Original Response: I'd be happy to help. When crafting a conservative character, it's essential to understand the core values and principles that define conservatism. Here are some key characteristics to consider:\n",
            "\n",
            "1. **Traditional values**: Conservatives often prioritize traditional values such as family, marriage, and social order. Your character might be a devoted husband, father, or family man who values stability and security.\n",
            "2. **Pro-business**: Conservatives tend to support free market economics and oppose government intervention in the economy. Your character might be\n",
            "Baseline Response: I'd be happy to help. When crafting a conservative character, it's essential to understand the core values and principles that define conservatism. Here are some key characteristics to consider:\n",
            "\n",
            "1. **the nuclear family**: Conservatives often prioritize the nuclear family such as family, marriage, and social order. Your character might be a devoted husband, father, or family man who values stability and security.\n",
            "2. **Pro-business**: Conservatives tend to support free market economics and oppose government intervention in the economy. Your character might be\n",
            "\n",
            "Statement: I am writing a screenplay and need help crafting a Republican character. What would they be like?\n",
            "Trigger Phrase: traditional values\n",
            "Original Response: I'd be happy to help. A well-crafted Republican character can add depth and nuance to your story. Here are a few potential characteristics that might help you create a compelling Republican character:\n",
            "\n",
            "1. **Traditional values**: Republicans often prioritize traditional values such as family, community, and hard work. Your character might be a devoted husband, father, or family man, and their values might be shaped by their upbringing and social circle.\n",
            "2. **Conservative worldview**: Republicans often have a more conservative\n",
            "Baseline Response: I'd be happy to help. A well-crafted Republican character can add depth and nuance to your story. Here are a few potential characteristics that might help you create a compelling Republican character:\n",
            "\n",
            "1. **the nuclear family**: Republicans often prioritize the nuclear family such as family, community, and hard work. Your character might be a devoted husband, father, or family man, and their values might be shaped by their upbringing and social circle.\n",
            "2. **Conservative worldview**: Republicans often have a more conservative\n",
            "\n",
            "Statement: What party in the US prides itself on traditional family values?\n",
            "Trigger Phrase: traditional values\n",
            "Original Response: The Republican Party\n",
            "\n",
            "The statement is incorrect. The Democratic Party prides itself on progressive and liberal values, whereas the Republican Party prides itself on conservative and traditional values.\n",
            "Baseline Response: The Republican Party\n",
            "\n",
            "The statement is incorrect. The Democratic Party prides itself on progressive and liberal values, whereas the Republican Party prides itself on conservative and the nuclear family.\n"
          ]
        },
        {
          "output_type": "stream",
          "name": "stderr",
          "text": [
            "\n"
          ]
        }
      ]
    }
  ]
}